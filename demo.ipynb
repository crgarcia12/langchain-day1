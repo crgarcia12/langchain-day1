{
 "cells": [
  {
   "cell_type": "markdown",
   "metadata": {},
   "source": [
    "Load environment variables from a file `.env` in the current directory.\n",
    "You can take a look at the `.env.template` file to see how it should look like."
   ]
  },
  {
   "cell_type": "code",
   "execution_count": 60,
   "metadata": {},
   "outputs": [
    {
     "name": "stdout",
     "output_type": "stream",
     "text": [
      "https://crgar-openai-openai.openai.azure.com/\n",
      "9e109b9266b0496d990f194144a4fad4\n",
      "2023-10-01-preview\n"
     ]
    }
   ],
   "source": [
    "from dotenv import load_dotenv\n",
    "import os\n",
    "\n",
    "load_dotenv()\n",
    "print(os.getenv(\"AZURE_OPENAI_ENDPOINT\"))\n",
    "print(os.getenv(\"AZURE_OPENAI_API_KEY\"))\n",
    "print(os.getenv(\"OPENAI_API_VERSION\"))"
   ]
  },
  {
   "cell_type": "code",
   "execution_count": 61,
   "metadata": {},
   "outputs": [
    {
     "name": "stdout",
     "output_type": "stream",
     "text": [
      "What is a good name for a company that makes podcast player?\n"
     ]
    }
   ],
   "source": [
    "# Create a prompt template\n",
    "from langchain.prompts import PromptTemplate\n",
    "\n",
    "prompt = PromptTemplate(\n",
    "    input_variables=[\"product\"],\n",
    "    template=\"What is a good name for a company that makes {product}?\",\n",
    ")\n",
    "\n",
    "print(prompt.format(product=\"podcast player\"))"
   ]
  },
  {
   "cell_type": "code",
   "execution_count": 62,
   "metadata": {},
   "outputs": [
    {
     "data": {
      "text/plain": [
       "'PodcastPro.'"
      ]
     },
     "execution_count": 62,
     "metadata": {},
     "output_type": "execute_result"
    }
   ],
   "source": [
    "# Call the LLM and run the prompt\n",
    "from langchain.chat_models import AzureChatOpenAI\n",
    "from langchain.chains import LLMChain\n",
    "\n",
    "llm = AzureChatOpenAI(\n",
    "    #azure_endpoint=os.getenv(\"AZURE_OPENAI_ENDPOINT\"),\n",
    "    #api_key=os.getenv(\"AZURE_OPENAI_API_KEY\"),\n",
    "    #api_version=os.getenv(\"OPENAI_API_VERSION\"),\n",
    "    #model_name=os.getenv(\"OPENAI_MODEL_NAME\"),\n",
    "    azure_deployment=os.getenv(\"AZURE_DEPLOYMENT\"),\n",
    "    temperature=0.9) #temperature dictates how whacky the output should be\n",
    "llmchain = LLMChain(llm=llm, prompt=prompt)\n",
    "llmchain.run(\"podcast player\")"
   ]
  },
  {
   "cell_type": "code",
   "execution_count": 63,
   "metadata": {},
   "outputs": [
    {
     "name": "stdout",
     "output_type": "stream",
     "text": [
      "\n",
      "\n",
      "\u001b[1m> Entering new PALChain chain...\u001b[0m\n",
      "\u001b[32;1m\u001b[1;3mdef solution():\n",
      "    \"\"\"If my age is half of my dad's age and he is going to be 60 next year, what is my current age?\"\"\"\n",
      "    dad_age_next_year = 60\n",
      "    my_age = dad_age_next_year // 2\n",
      "    result = my_age\n",
      "    return result\u001b[0m\n"
     ]
    }
   ],
   "source": [
    "# Trying a stock chain: PALChain. This requires langchain-experimental package to be installed\n",
    "from langchain_experimental.pal_chain import PALChain\n",
    "palchain = PALChain.from_math_prompt(llm=llm, verbose=True)\n",
    "palchain.run(\"If my age is half of my dad's age and he is going to be 60 next year, what is my current age?\")"
   ]
  },
  {
   "cell_type": "code",
   "execution_count": null,
   "metadata": {},
   "outputs": [
    {
     "ename": "ImportError",
     "evalue": "cannot import name 'pal_math' from 'langchain_experimental.agents.agent_toolkits' (c:\\gitrepos\\github\\crgarcia12\\langchain-day1\\.venv\\Lib\\site-packages\\langchain_experimental\\agents\\agent_toolkits\\__init__.py)",
     "output_type": "error",
     "traceback": [
      "\u001b[1;31m---------------------------------------------------------------------------\u001b[0m",
      "\u001b[1;31mImportError\u001b[0m                               Traceback (most recent call last)",
      "\u001b[1;32mc:\\gitrepos\\github\\crgarcia12\\langchain-day1\\demo.ipynb Cell 6\u001b[0m line \u001b[0;36m4\n\u001b[0;32m      <a href='vscode-notebook-cell:/c%3A/gitrepos/github/crgarcia12/langchain-day1/demo.ipynb#W6sZmlsZQ%3D%3D?line=1'>2</a>\u001b[0m \u001b[39mfrom\u001b[39;00m \u001b[39mlangchain\u001b[39;00m\u001b[39m.\u001b[39;00m\u001b[39magents\u001b[39;00m \u001b[39mimport\u001b[39;00m AgentType\n\u001b[0;32m      <a href='vscode-notebook-cell:/c%3A/gitrepos/github/crgarcia12/langchain-day1/demo.ipynb#W6sZmlsZQ%3D%3D?line=2'>3</a>\u001b[0m \u001b[39mfrom\u001b[39;00m \u001b[39mlangchain\u001b[39;00m\u001b[39m.\u001b[39;00m\u001b[39magents\u001b[39;00m \u001b[39mimport\u001b[39;00m load_tools\n\u001b[1;32m----> <a href='vscode-notebook-cell:/c%3A/gitrepos/github/crgarcia12/langchain-day1/demo.ipynb#W6sZmlsZQ%3D%3D?line=3'>4</a>\u001b[0m \u001b[39mfrom\u001b[39;00m \u001b[39mlangchain_experimental\u001b[39;00m\u001b[39m.\u001b[39;00m\u001b[39magents\u001b[39;00m\u001b[39m.\u001b[39;00m\u001b[39magent_toolkits\u001b[39;00m \u001b[39mimport\u001b[39;00m pal_math   \n\u001b[0;32m      <a href='vscode-notebook-cell:/c%3A/gitrepos/github/crgarcia12/langchain-day1/demo.ipynb#W6sZmlsZQ%3D%3D?line=5'>6</a>\u001b[0m llm \u001b[39m=\u001b[39m AzureChatOpenAI(\n\u001b[0;32m      <a href='vscode-notebook-cell:/c%3A/gitrepos/github/crgarcia12/langchain-day1/demo.ipynb#W6sZmlsZQ%3D%3D?line=6'>7</a>\u001b[0m     azure_deployment\u001b[39m=\u001b[39mos\u001b[39m.\u001b[39mgetenv(\u001b[39m\"\u001b[39m\u001b[39mAZURE_DEPLOYMENT\u001b[39m\u001b[39m\"\u001b[39m),\n\u001b[0;32m      <a href='vscode-notebook-cell:/c%3A/gitrepos/github/crgarcia12/langchain-day1/demo.ipynb#W6sZmlsZQ%3D%3D?line=7'>8</a>\u001b[0m     temperature\u001b[39m=\u001b[39m\u001b[39m0\u001b[39m)\n\u001b[0;32m     <a href='vscode-notebook-cell:/c%3A/gitrepos/github/crgarcia12/langchain-day1/demo.ipynb#W6sZmlsZQ%3D%3D?line=9'>10</a>\u001b[0m tools \u001b[39m=\u001b[39m load_tools([\u001b[39m\"\u001b[39m\u001b[39mpal-math\u001b[39m\u001b[39m\"\u001b[39m], llm\u001b[39m=\u001b[39mllm)\n",
      "\u001b[1;31mImportError\u001b[0m: cannot import name 'pal_math' from 'langchain_experimental.agents.agent_toolkits' (c:\\gitrepos\\github\\crgarcia12\\langchain-day1\\.venv\\Lib\\site-packages\\langchain_experimental\\agents\\agent_toolkits\\__init__.py)"
     ]
    }
   ],
   "source": [
    "from langchain.agents import initialize_agent\n",
    "from langchain.agents import AgentType\n",
    "from langchain.agents import load_tools\n",
    "#from langchain_experimental.agents.agent_toolkits import pal_math   \n",
    "\n",
    "llm = AzureChatOpenAI(\n",
    "    azure_deployment=os.getenv(\"AZURE_DEPLOYMENT\"),\n",
    "    temperature=0)\n",
    "\n",
    "tools = load_tools([\"pal-math\"], llm=llm)\n",
    "\n",
    "agent = initialize_agent(tools,\n",
    "                         llm,\n",
    "                         agent=AgentType.ZERO_SHOT_REACT_DESCRIPTION,\n",
    "                         verbose=True)"
   ]
  }
 ],
 "metadata": {
  "kernelspec": {
   "display_name": ".venv",
   "language": "python",
   "name": "python3"
  },
  "language_info": {
   "codemirror_mode": {
    "name": "ipython",
    "version": 3
   },
   "file_extension": ".py",
   "mimetype": "text/x-python",
   "name": "python",
   "nbconvert_exporter": "python",
   "pygments_lexer": "ipython3",
   "version": "3.12.0"
  }
 },
 "nbformat": 4,
 "nbformat_minor": 2
}
